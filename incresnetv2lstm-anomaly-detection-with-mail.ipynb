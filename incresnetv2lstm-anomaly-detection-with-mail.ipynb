{
 "cells": [
  {
   "cell_type": "code",
   "execution_count": 1,
   "metadata": {
    "execution": {
     "iopub.execute_input": "2023-05-15T12:41:12.394805Z",
     "iopub.status.busy": "2023-05-15T12:41:12.394210Z",
     "iopub.status.idle": "2023-05-15T12:41:12.439916Z",
     "shell.execute_reply": "2023-05-15T12:41:12.438814Z",
     "shell.execute_reply.started": "2023-05-15T12:41:12.394743Z"
    }
   },
   "outputs": [],
   "source": [
    "import imaplib\n",
    "import numpy as np\n",
    "import pandas as pd\n",
    "import time\n",
    "import smtplib\n",
    "from datetime import date, datetime\n",
    "from email.message import EmailMessage\n"
   ]
  },
  {
   "cell_type": "code",
   "execution_count": 2,
   "metadata": {
    "execution": {
     "iopub.execute_input": "2023-05-15T12:41:12.442154Z",
     "iopub.status.busy": "2023-05-15T12:41:12.441883Z",
     "iopub.status.idle": "2023-05-15T12:41:12.447026Z",
     "shell.execute_reply": "2023-05-15T12:41:12.445842Z",
     "shell.execute_reply.started": "2023-05-15T12:41:12.442127Z"
    }
   },
   "outputs": [],
   "source": [
    "EMAIL_ADDRESS = 'sender@gmail.com'\n",
    "EMAIL_PASSWORD = 'your application password'\n",
    "RECEIVER_EMAIL_ADDRESS = 'receiver@gmail.com'"
   ]
  },
  {
   "cell_type": "code",
   "execution_count": 3,
   "metadata": {
    "execution": {
     "iopub.execute_input": "2023-05-15T12:41:12.449598Z",
     "iopub.status.busy": "2023-05-15T12:41:12.448820Z",
     "iopub.status.idle": "2023-05-15T12:41:12.462035Z",
     "shell.execute_reply": "2023-05-15T12:41:12.460784Z",
     "shell.execute_reply.started": "2023-05-15T12:41:12.449541Z"
    }
   },
   "outputs": [],
   "source": [
    "import smtplib\n",
    "from email.mime.multipart import MIMEMultipart\n",
    "from email.mime.text import MIMEText\n",
    "\n",
    "def sendMail(video, anomaly, analysis):\n",
    "    SUBJECT = \"🚨🚨ANOMALY DETECTED🚨🚨\"\n",
    "    BODY = f\"\"\"\n",
    "        <!DOCTYPE html>\n",
    "        <html>\n",
    "        <head>\n",
    "            <title>HTML Email</title>\n",
    "        </head>\n",
    "        <body>\n",
    "            <p>Hello User</p>\n",
    "            <p>An anomaly was detected in your video: {video}.</p>\n",
    "            <p>Our system has detected that anomaly is <strong>{anomaly}</strong></p>\n",
    "            </p>Our Analysis: {analysis}</p>\n",
    "        </body>\n",
    "        </html>\n",
    "    \"\"\"\n",
    "\n",
    "    # Create message container - the correct MIME type is multipart/alternative.\n",
    "    msg = MIMEMultipart('alternative')\n",
    "    msg['Subject'] = SUBJECT\n",
    "    msg['From'] = EMAIL_ADDRESS\n",
    "    msg['To'] = RECEIVER_EMAIL_ADDRESS\n",
    "\n",
    "    # Attach HTML body to the message\n",
    "    html = MIMEText(BODY, 'html')\n",
    "    msg.attach(html)\n",
    "\n",
    "    # Establish a secure SMTP session and log in to the email server\n",
    "    with smtplib.SMTP_SSL('smtp.gmail.com', 465) as server:\n",
    "        server.login(EMAIL_ADDRESS, EMAIL_PASSWORD)\n",
    "\n",
    "        # Send mail\n",
    "        server.sendmail(EMAIL_ADDRESS, RECEIVER_EMAIL_ADDRESS, msg.as_string())\n",
    "\n",
    "    print(\"Email sent successfully!\")"
   ]
  },
  {
   "cell_type": "code",
   "execution_count": null,
   "metadata": {
    "_cell_guid": "b1076dfc-b9ad-4769-8c92-a6c4dae69d19",
    "_uuid": "8f2839f25d086af736a60e9eeb907d3b93b6e0e5",
    "execution": {
     "iopub.execute_input": "2023-05-15T12:41:12.465486Z",
     "iopub.status.busy": "2023-05-15T12:41:12.465129Z",
     "iopub.status.idle": "2023-05-15T12:41:49.338062Z",
     "shell.execute_reply": "2023-05-15T12:41:49.336852Z",
     "shell.execute_reply.started": "2023-05-15T12:41:12.465451Z"
    }
   },
   "outputs": [],
   "source": [
    "from keras.models import load_model\n",
    "\n",
    "# Load the model from the HDF5 file\n",
    "model = load_model('PATH TO MODEL')"
   ]
  },
  {
   "cell_type": "code",
   "execution_count": 5,
   "metadata": {
    "execution": {
     "iopub.execute_input": "2023-05-15T12:41:49.340301Z",
     "iopub.status.busy": "2023-05-15T12:41:49.339889Z",
     "iopub.status.idle": "2023-05-15T12:41:49.630993Z",
     "shell.execute_reply": "2023-05-15T12:41:49.629946Z",
     "shell.execute_reply.started": "2023-05-15T12:41:49.340257Z"
    }
   },
   "outputs": [],
   "source": [
    "import cv2\n",
    "import numpy as np\n",
    "from keras.preprocessing.image import ImageDataGenerator\n",
    "from keras.applications.inception_resnet_v2 import preprocess_input\n",
    "from IPython.display import HTML\n",
    "from base64 import b64encode\n",
    "# Load the CNN model\n",
    "\n",
    "datagen = ImageDataGenerator(\n",
    "    rescale=1./255,\n",
    "    rotation_range=30,\n",
    "    width_shift_range=0.2,\n",
    "    height_shift_range=0.2,\n",
    "    shear_range=0.2,\n",
    "    zoom_range=0.2,\n",
    "    validation_split=0.2,\n",
    "    horizontal_flip=True,\n",
    "    fill_mode='nearest')\n",
    "\n",
    "def predict_video(video_path):\n",
    "    # Load the video\n",
    "    video = cv2.VideoCapture(video_path)\n",
    "    print(video.get(cv2.CAP_PROP_FRAME_COUNT))\n",
    "    print(video.get(cv2.CAP_PROP_FPS))\n",
    "    \n",
    "    # Set the desired frame rate and create an empty list for predictions\n",
    "    frame_rate = 15\n",
    "    predictions = []\n",
    "    folder = video_path.split('/')[3]\n",
    "    if folder == 'Normal_Videos_for_Event_Recognition':\n",
    "        folder = 'Normal'\n",
    "    pred_dict = {i: 0 for i in range(0,5)}\n",
    "        \n",
    "    labels = {\n",
    "        0:\"Explosion\",\n",
    "        1:\"Fighting\",\n",
    "        2:\"Normal\",\n",
    "        3:\"RoadAccidents\",\n",
    "        4:\"Stealing/Snatching\"\n",
    "    }\n",
    "    prev_max_key = -1\n",
    "    while True:\n",
    "        # Read the next frame\n",
    "        ret, frame = video.read()\n",
    "\n",
    "        # If the frame couldn't be read, break out of the loop\n",
    "        if not ret:\n",
    "            break\n",
    "\n",
    "        # Get the current frame ID and check if it's a multiple of the desired frame rate\n",
    "        current_frame_id = video.get(cv2.CAP_PROP_POS_FRAMES)\n",
    "        check = False\n",
    "        if current_frame_id % frame_rate == 0:\n",
    "            # Resize the frame and apply data augmentation\n",
    "            image = cv2.resize(frame, (224, 224))\n",
    "            image_data = datagen.apply_transform(image, {\n",
    "                'shear': 0.2,\n",
    "                'zoom': 0.2,\n",
    "                'flip_horizontal': True\n",
    "            })\n",
    "\n",
    "            # Add an extra dimension to the image data and preprocess it\n",
    "            image_data = np.expand_dims(image_data, axis=0)\n",
    "            image_data = preprocess_input(image_data)\n",
    "\n",
    "            # Make a prediction and append the predicted class to the list of predictions\n",
    "            pred_class = model.predict(image_data, verbose=0)\n",
    "            pred_class = np.argmax(pred_class, axis=1)\n",
    "            predictions.append(pred_class[0])\n",
    "            pred_dict[predictions[-1]] += 1\n",
    "            time = (current_frame_id / frame_rate) / (video.get(cv2.CAP_PROP_FPS) / frame_rate)\n",
    "            if time >= 5:\n",
    "                check = True\n",
    "            \n",
    "            total = sum(pred_dict.values())\n",
    "\n",
    "            # calculate the percentage for each value in the dictionary\n",
    "            result_dict = {k: (v / total) * 100 for k, v in pred_dict.items()}\n",
    "\n",
    "            if check:\n",
    "                max_key, max_value = max(result_dict.items(), key=lambda x: x[1])\n",
    "                if max_key != 2:\n",
    "                    if max_key != prev_max_key:\n",
    "                        prev_max_key = max_key\n",
    "#                         print(labels[max_key], max_value, time)\n",
    "                    \n",
    "    video.release()\n",
    "    results = {}\n",
    "    for i in result_dict:\n",
    "        results[labels[i]] = result_dict[i]\n",
    "    print(results)\n",
    "    if max_key != 2:\n",
    "        sendMail(video_path, labels[max_key], results)\n",
    "    \n"
   ]
  },
  {
   "cell_type": "code",
   "execution_count": null,
   "metadata": {
    "execution": {
     "iopub.execute_input": "2023-05-15T12:41:57.867472Z",
     "iopub.status.busy": "2023-05-15T12:41:57.866704Z",
     "iopub.status.idle": "2023-05-15T12:43:11.033803Z",
     "shell.execute_reply": "2023-05-15T12:43:11.032588Z",
     "shell.execute_reply.started": "2023-05-15T12:41:57.867428Z"
    }
   },
   "outputs": [],
   "source": [
    "predict_video('PATH TO VIDEO')"
   ]
  },
  {
   "cell_type": "code",
   "execution_count": null,
   "metadata": {},
   "outputs": [],
   "source": []
  }
 ],
 "metadata": {
  "kernelspec": {
   "display_name": "Python 3 (ipykernel)",
   "language": "python",
   "name": "python3"
  },
  "language_info": {
   "codemirror_mode": {
    "name": "ipython",
    "version": 3
   },
   "file_extension": ".py",
   "mimetype": "text/x-python",
   "name": "python",
   "nbconvert_exporter": "python",
   "pygments_lexer": "ipython3",
   "version": "3.9.13"
  }
 },
 "nbformat": 4,
 "nbformat_minor": 4
}
